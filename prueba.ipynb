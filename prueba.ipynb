{
 "cells": [
  {
   "cell_type": "code",
   "execution_count": 1,
   "metadata": {},
   "outputs": [],
   "source": [
    "# %% import required libraries and declare environment variables\n",
    "import requests\n",
    "from sqlalchemy import create_engine, text\n",
    "import sqlalchemy\n",
    "import pandas as pd\n",
    "\n",
    "URL = \"http://mini-challenge.foris.ai\""
   ]
  },
  {
   "cell_type": "code",
   "execution_count": 3,
   "metadata": {},
   "outputs": [
    {
     "name": "stdout",
     "output_type": "stream",
     "text": [
      "Login failed: 415\n"
     ]
    }
   ],
   "source": [
    "# %% Login\n",
    "login_url = f\"{URL}/login\"\n",
    "body = {\n",
    "    \"username\": \"foris_challenge\",\n",
    "    \"password\": \"ForisChallenge\",\n",
    "}\n",
    "login_response = requests.post(login_url, data=body)\n",
    "\n",
    "if login_response.status_code == 200:\n",
    "    print(\"Login successful!\")\n",
    "    cookies = login_response.cookies\n",
    "else:\n",
    "    print(\"Login failed:\", login_response.status_code)"
   ]
  },
  {
   "cell_type": "code",
   "execution_count": 15,
   "metadata": {},
   "outputs": [],
   "source": [
    "# %% challenge\n",
    "challenge_url = f\"{URL}/challenge\"\n",
    "challenge_response = requests.get(challenge_url, cookies=cookies, timeout=30)\n",
    "if challenge_response.status_code == 200:\n",
    "    print(challenge_response.text)\n",
    "else:\n",
    "    print(\"challenge_response failed\")"
   ]
  },
  {
   "cell_type": "code",
   "execution_count": 16,
   "metadata": {},
   "outputs": [
    {
     "data": {
      "text/plain": [
       "415"
      ]
     },
     "execution_count": 16,
     "metadata": {},
     "output_type": "execute_result"
    }
   ],
   "source": [
    "# %% get dump\n",
    "DUMP_TYPE = \"mysql\"\n",
    "dumps_url = f\"{URL}/challenge{DUMP_TYPE}\"\n",
    "dump_response = requests.get(dumps_url, cookies=cookies, timeout=30)\n",
    "if dump_response.status_code == 200:\n",
    "    print(dump_response.text)\n",
    "else:\n",
    "    print(\"dump_response failed\")"
   ]
  },
  {
   "cell_type": "code",
   "execution_count": null,
   "metadata": {},
   "outputs": [],
   "source": [
    "# %% Define the database connection parameters\n",
    "DB_HOST = \"localhost\"\n",
    "DB_PORT = \"5532\"\n",
    "DB_USER = \"pragma\"\n",
    "DB_PASSWORD = \"password\"\n",
    "DB_NAME = \"pragma\"\n",
    "# Create a SQLAlchemy engine with temporary database\n",
    "connection_string = f\"postgresql://{DB_USER}:{DB_PASSWORD}@{DB_HOST}:{DB_PORT}/{DB_NAME}\"\n",
    "engine = create_engine(connection_string)\n",
    "with engine.connect() as connection:\n",
    "    for statement in dump_response.text.split(';'):\n",
    "        if statement.strip():\n",
    "            try:\n",
    "                connection.execute(text(statement))\n",
    "            except Exception as e:\n",
    "                print(f\"An error occurred: {e}\")"
   ]
  },
  {
   "cell_type": "code",
   "execution_count": null,
   "metadata": {},
   "outputs": [],
   "source": [
    "# %% Query the database\n",
    "\n",
    "number_of_groups_query = \"SELECT COUNT(id) AS count FROM group\"\n",
    "answer_query = \"SELECT COUNT(id) AS count FROM group\"\n",
    "with engine.connect() as connection:\n",
    "    result = connection.execute(text(number_of_groups_query))\n",
    "    count = result.scalar()\n",
    "    print(f\"Number of elements in the table group :\", count)"
   ]
  },
  {
   "cell_type": "code",
   "execution_count": null,
   "metadata": {},
   "outputs": [],
   "source": [
    "# %%\n",
    "# validation\n",
    "# VALIDATION_URL = f\"{URL}/validate\"\n",
    "# NUMBER_OF_GROUPS = \"\"\n",
    "# ANSWER = \"\"\n",
    "# body = {\"number_of_groups\": NUMBER_OF_GROUPS, \"answer\": ANSWER}\n",
    "# validation_response = requests.post(VALIDATION_URL, data=body, cookies=cookies, timeout=30)"
   ]
  }
 ],
 "metadata": {
  "kernelspec": {
   "display_name": ".venv",
   "language": "python",
   "name": "python3"
  },
  "language_info": {
   "codemirror_mode": {
    "name": "ipython",
    "version": 3
   },
   "file_extension": ".py",
   "mimetype": "text/x-python",
   "name": "python",
   "nbconvert_exporter": "python",
   "pygments_lexer": "ipython3",
   "version": "3.10.10"
  }
 },
 "nbformat": 4,
 "nbformat_minor": 2
}
