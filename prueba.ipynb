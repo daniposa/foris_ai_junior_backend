{
 "cells": [
  {
   "cell_type": "code",
   "execution_count": 1,
   "metadata": {},
   "outputs": [],
   "source": [
    "# import required libraries and declare environment variables\n",
    "import requests\n",
    "from sqlalchemy import create_engine, text\n",
    "import pandas as pd\n",
    "\n",
    "# This is the url to request\n",
    "URL = \"http://mini-challenge.foris.ai\""
   ]
  },
  {
   "cell_type": "code",
   "execution_count": 2,
   "metadata": {},
   "outputs": [],
   "source": [
    "# create request session in order to store authentication token\n",
    "session = requests.Session()\n"
   ]
  },
  {
   "cell_type": "code",
   "execution_count": 3,
   "metadata": {},
   "outputs": [],
   "source": [
    "# request login url in order to get the JWT\n",
    "login_response = session.post(url = f\"{URL}/login\", data = '{\"username\": \"foris_challenge\", \"password\": \"ForisChallenge\"}', headers = {\"Content-Type\": \"application/json\"})\n",
    "access_token = login_response.json()[\"access_token\"]"
   ]
  },
  {
   "cell_type": "code",
   "execution_count": 4,
   "metadata": {},
   "outputs": [
    {
     "name": "stdout",
     "output_type": "stream",
     "text": [
      "Welcome to the Foris developer mini-challenge! Follow these steps to complete the task:\n",
      "\n",
      "1. **Download SQL Dump**\n",
      "\n",
      "    Choose between a MySQL or a PostgreSQL dump:\n",
      "    - For a local MySQL (version 8) environment, download the dump from the endpoint /dumps/mysql.\n",
      "    - For a local PostgreSQL (versions 13-15) environment, download the dump from the endpoint /dumps/psql.\n",
      "    - For an online PostgreSQL environment, download the SQL script from the endpoint /dumps/onlinepsql.\n",
      "   \n",
      "   Note: If you are using Postman, make sure you execute the request with `Send and Download` as shown here https://stackoverflow.com/questions/38975718/how-to-download-excel-xls-file-from-api-in-postman.\n",
      "\n",
      "2. **Import Database**\n",
      "\n",
      "    If you chose one of the local SQL environments, import the downloaded SQL dump into your local environment by your preferred method (tested via terminal). Make sure the import process completes successfully.\n",
      "\n",
      "    If you chose the online PostgreSQL environment, head to https://sqliteonline.com/, click on PostgreSQL on the left sidebar, paste the dump contents, and run the script. You should see the created tables on the sidebar.\n",
      "\n",
      "3. **Inspect Database**\n",
      "\n",
      "    Take a moment to examine the imported database to understand its structure, including the models and data it contains.\n",
      "\n",
      "4. **Query Database**\n",
      "\n",
      "    Use an SQL query to find the answer to the following question: \"How many students who enrolled in at least 5 groups between the start of February 5 and the end of February 7, enrolled in at least one subject with a code ending in `1`?\"\n",
      "\n",
      "   **Warning!** The value `2024-02-07` represents the start of February 7, not its end.\n",
      "\n",
      "5. **Validate your answer**\n",
      "\n",
      "   You can validate your answer sending a `POST` request to /validate.\n",
      "   \n",
      "   The body must have the following attributes:\n",
      "   \n",
      "   * `NUMBER_OF_GROUPS`: Is the number of groups present in the table `group` of the given dump. By giving this you prove that you successfully inspect your database.\n",
      "   \n",
      "   * `YOUR_ANSWER`: Is the answer of the question asked in the previous step.\n",
      "   \n",
      "   This query can be executed only once per hour, so be careful when you send the request.\n",
      "\n",
      "6. **Submit Your Answer**\n",
      "\n",
      "    When you are done, submit your answer in the questionnaire provided when submitting your application via Getonboard.\n",
      "\n",
      "That's it! Good luck with the challenge.\n",
      "\n"
     ]
    }
   ],
   "source": [
    "# request the challenge information\n",
    "authorization_headers={\"Authorization\": f\"Bearer {access_token}\"}\n",
    "challenge_response = session.get(f\"{URL}/challenge\",headers=authorization_headers)\n",
    "print(challenge_response.text)"
   ]
  },
  {
   "cell_type": "code",
   "execution_count": 6,
   "metadata": {},
   "outputs": [
    {
     "name": "stdout",
     "output_type": "stream",
     "text": [
      "status code: 200\n"
     ]
    }
   ],
   "source": [
    "# get dump of the database in mysql\n",
    "dump_response = session.get(f\"{URL}/dumps/mysql\",headers = authorization_headers)\n",
    "print(f\"status code: {dump_response.status_code}\") # if status code is 200 everything is ok\n",
    "# Save sql file\n",
    "with open('./recruitment_test.sql','w') as file:\n",
    "    file.write(dump_response.text)"
   ]
  },
  {
   "cell_type": "markdown",
   "metadata": {},
   "source": [
    "Here you have to create the database using mysql. The step by step guide of how I made it, along with some external references are provided bellow:\n",
    "\n",
    "1) [Install mysql]((https://learn.microsoft.com/en-us/windows/wsl/install)) in the WSL ([Windows Subsystem for Linux](https://learn.microsoft.com/en-us/windows/wsl/install))\n",
    "\n",
    "2) In the WSL terminal initialize and configure mysql\n",
    "3) Using mysql server create the database with the following command:\n",
    "´´´\n",
    "sudo mysql -h localhost recruitment_test < recruitment_test.sql\n",
    "´´´\n",
    "4) I had some issues inserting the enrollment table. So I have corrected the line 44 using insert ignore instead of simple insert statement\n",
    "\n",
    "And the Database is ready to be queried\n"
   ]
  },
  {
   "cell_type": "code",
   "execution_count": 7,
   "metadata": {},
   "outputs": [],
   "source": [
    "# Define the database connection parameters (or better load them from a .env file)\n",
    "DB_HOST = \"localhost\"\n",
    "DB_USER = \"foris\"\n",
    "DB_PASSWORD = \"password\"\n",
    "DB_NAME = \"recruitment_test\"\n",
    "# Create a SQLAlchemy engine with temporary database\n",
    "connection_string = f\"mysql+pymysql://{DB_USER}:{DB_PASSWORD}@{DB_HOST}/{DB_NAME}\"\n",
    "\n",
    "engine = create_engine(connection_string)\n",
    "connection = engine.connect()"
   ]
  },
  {
   "cell_type": "markdown",
   "metadata": {},
   "source": [
    "* `NUMBER_OF_GROUPS`: Is the number of groups present in the table `group` of the given dump. By giving this you prove that you successfully inspect your database."
   ]
  },
  {
   "cell_type": "code",
   "execution_count": 8,
   "metadata": {},
   "outputs": [],
   "source": [
    "# calculate the number of groups\n",
    "inspect_group_query = text(\"\"\"SELECT * FROM `group`;\"\"\")\n",
    "result = pd.read_sql(inspect_group_query, con=engine)\n",
    "number_of_groups = result.shape[0]"
   ]
  },
  {
   "cell_type": "code",
   "execution_count": 9,
   "metadata": {},
   "outputs": [
    {
     "data": {
      "text/plain": [
       "168"
      ]
     },
     "execution_count": 9,
     "metadata": {},
     "output_type": "execute_result"
    }
   ],
   "source": [
    "number_of_groups"
   ]
  },
  {
   "cell_type": "markdown",
   "metadata": {},
   "source": [
    "* `YOUR_ANSWER`: Use an SQL query to find the answer to the following question: \"How many students who enrolled in at least 5 groups between the start of February 5 and the end of February 7, enrolled in at least one subject with a code ending in `1`?\"\n",
    "\n",
    "   **Warning!** The value `2024-02-07` represents the start of February 7, not its end."
   ]
  },
  {
   "cell_type": "code",
   "execution_count": 10,
   "metadata": {},
   "outputs": [],
   "source": [
    "# calculate the answer\n",
    "answer_query = text(\"\"\"\n",
    "SELECT student_id FROM\n",
    "(\n",
    "SELECT e.student_id AS student_id, COUNT(DISTINCT e.group_id) AS enrolled_groups\n",
    "FROM enrollment e\n",
    "JOIN `group` g ON e.group_id = g.id\n",
    "JOIN subject sj ON g.subject_id = sj.id\n",
    "WHERE e.enrollment_hour >= '2024-02-05' AND e.enrollment_hour < '2024-02-08'\n",
    "GROUP BY student_id\n",
    "HAVING COUNT(DISTINCT e.group_id) >= 5\n",
    ") AS fwetfwe\n",
    "WHERE student_id IN\n",
    "(\n",
    "SELECT e.student_id AS student_id\n",
    "FROM enrollment e\n",
    "JOIN `group` g ON e.group_id = g.id\n",
    "JOIN subject sj ON g.subject_id = sj.id\n",
    "WHERE sj.code LIKE '%1'\n",
    ")\n",
    "\"\"\")\n",
    "\n",
    "result = pd.read_sql_query(answer_query, con=engine)\n",
    "your_answer = result.size\n",
    "connection.close()"
   ]
  },
  {
   "cell_type": "code",
   "execution_count": 11,
   "metadata": {},
   "outputs": [
    {
     "data": {
      "text/plain": [
       "28"
      ]
     },
     "execution_count": 11,
     "metadata": {},
     "output_type": "execute_result"
    }
   ],
   "source": [
    "your_answer"
   ]
  },
  {
   "cell_type": "code",
   "execution_count": 12,
   "metadata": {},
   "outputs": [],
   "source": [
    "# post validation\n",
    "header={**authorization_headers,**{\"Content-Type\": \"application/json\"}}\n",
    "body = str(f'{{\"NUMBER_OF_GROUPS\" : {number_of_groups},\"YOUR_ANSWER\" :{your_answer}}}')\n"
   ]
  },
  {
   "cell_type": "code",
   "execution_count": 13,
   "metadata": {},
   "outputs": [
    {
     "data": {
      "text/plain": [
       "'{\"NUMBER_OF_GROUPS\" : 168,\"YOUR_ANSWER\" :28}'"
      ]
     },
     "execution_count": 13,
     "metadata": {},
     "output_type": "execute_result"
    }
   ],
   "source": [
    "body"
   ]
  },
  {
   "cell_type": "code",
   "execution_count": 14,
   "metadata": {},
   "outputs": [],
   "source": [
    "\n",
    "response = session.post(url = f\"{URL}/validate\", data = '{\"NUMBER_OF_GROUPS\":\"168\",\"YOUR_ANSWER\":\"28\"}', headers = header)"
   ]
  },
  {
   "cell_type": "code",
   "execution_count": 15,
   "metadata": {},
   "outputs": [
    {
     "data": {
      "text/plain": [
       "'{\"error\":\"The number of groups is not correct.\"}\\n'"
      ]
     },
     "execution_count": 15,
     "metadata": {},
     "output_type": "execute_result"
    }
   ],
   "source": [
    "response.text\n"
   ]
  },
  {
   "cell_type": "markdown",
   "metadata": {},
   "source": [
    "He verificado que el número de grupos es correcto, no sé qué pasa 🥲"
   ]
  },
  {
   "cell_type": "code",
   "execution_count": 16,
   "metadata": {},
   "outputs": [],
   "source": [
    "session.close()"
   ]
  }
 ],
 "metadata": {
  "kernelspec": {
   "display_name": ".venv",
   "language": "python",
   "name": "python3"
  },
  "language_info": {
   "codemirror_mode": {
    "name": "ipython",
    "version": 3
   },
   "file_extension": ".py",
   "mimetype": "text/x-python",
   "name": "python",
   "nbconvert_exporter": "python",
   "pygments_lexer": "ipython3",
   "version": "3.10.10"
  }
 },
 "nbformat": 4,
 "nbformat_minor": 2
}
